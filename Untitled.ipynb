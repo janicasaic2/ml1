{
 "cells": [
  {
   "cell_type": "code",
   "execution_count": 1,
   "id": "a38f516f-29aa-40f1-a127-efde302f518a",
   "metadata": {},
   "outputs": [
    {
     "name": "stdout",
     "output_type": "stream",
     "text": [
      "[1] \"holi\"\n"
     ]
    }
   ],
   "source": [
    "print('holi')"
   ]
  },
  {
   "cell_type": "code",
   "execution_count": null,
   "id": "32dfbb75-3e0a-4e50-8c67-058d745c2be2",
   "metadata": {},
   "outputs": [],
   "source": []
  }
 ],
 "metadata": {
  "kernelspec": {
   "display_name": "R",
   "language": "R",
   "name": "ir"
  },
  "language_info": {
   "codemirror_mode": "r",
   "file_extension": ".r",
   "mimetype": "text/x-r-source",
   "name": "R",
   "pygments_lexer": "r",
   "version": "4.3.3"
  }
 },
 "nbformat": 4,
 "nbformat_minor": 5
}
